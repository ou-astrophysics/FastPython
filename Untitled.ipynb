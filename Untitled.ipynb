{
 "cells": [
  {
   "cell_type": "markdown",
   "id": "c4bb21d1",
   "metadata": {
    "slideshow": {
     "slide_type": "slide"
    }
   },
   "source": [
    "<h1 align=\"center\">Why is Python so <i>slow</i>?</h1>\n",
    "<h2 align=\"center\">(and what can I do about it?)</h2>\n",
    "&nbsp;\n",
    "<div align=\"center\">\n",
    "  <img src=\"https://ichef.bbci.co.uk/images/ic/640x360/p06vd19l.jpg\" />\n",
    "</div>"
   ]
  },
  {
   "cell_type": "markdown",
   "id": "7fc6d63a",
   "metadata": {
    "slideshow": {
     "slide_type": "slide"
    }
   },
   "source": [
    "<h2 align=\"center\">I don't care. I only use FORTRAN (or C++)</h2>\n",
    "\n",
    "<div align=\"center\">\n",
    "  <img src=\"https://www.fourmilab.ch/documents/univac/figures/card-90col.gif\" />\n",
    "</div>"
   ]
  },
  {
   "cell_type": "markdown",
   "id": "df75b5b6",
   "metadata": {
    "slideshow": {
     "slide_type": "slide"
    }
   },
   "source": [
    "<h2 align=\"center\">But Python isn't slow!</h2>\n",
    "\n",
    "<div align=\"center\">\n",
    "  <img src=\"https://upload.wikimedia.org/wikipedia/commons/thumb/c/cf/Casio_calculator_JS-20WK_in_201901_002.jpg/533px-Casio_calculator_JS-20WK_in_201901_002.jpg\" />\n",
    "</div>"
   ]
  },
  {
   "cell_type": "markdown",
   "id": "dc8db754",
   "metadata": {
    "slideshow": {
     "slide_type": "slide"
    }
   },
   "source": [
    "<h2 align=\"center\">I <i>like</i> that Python is slow!</h2>\n",
    "\n",
    "<div align=\"center\">\n",
    "  <img width=\"600px\" src=\"figures/1_PAY-Boris-Johnson-and-staff-pictured-with-wine-in-Downing-Street-garden-in-May-2020.jpg\" />\n",
    "</div>"
   ]
  },
  {
   "cell_type": "markdown",
   "id": "571e2879",
   "metadata": {
    "slideshow": {
     "slide_type": "slide"
    }
   },
   "source": [
    "## So why _is_ Python slow?\n",
    "### Python is _*interpreted*_.\n",
    "\n",
    "<table align=\"center\">\n",
    "    <tr>\n",
    "        <td>\n",
    "  <img width=\"500px\" src=\"https://csharpcorner-mindcrackerinc.netdna-ssl.com/article/why-learn-python-an-introduction-to-python/Images/last2.png\" float=\"left\"/></td>\n",
    "        <td><img width=\"500px\" src=\"figures/Compiled.jpg\" float=\"right\"/></td>\n",
    "    </tr>\n",
    "    </table>\n"
   ]
  },
  {
   "cell_type": "markdown",
   "id": "9d21b91c",
   "metadata": {
    "slideshow": {
     "slide_type": "slide"
    }
   },
   "source": [
    "## So why _is_ Python slow?\n",
    "### Python is _*dynamically typed*_."
   ]
  },
  {
   "cell_type": "code",
   "execution_count": null,
   "id": "fca5ebb1",
   "metadata": {},
   "outputs": [],
   "source": [
    "import numpy as np\n",
    "\n",
    "# Add a random number of objects with random types to the list\n",
    "def mess_with_my_list(list_of_vars):\n",
    "    types = [int, float, str]\n",
    "    values = np.random.uniform(1, 10, np.random.randint(0, 5))\n",
    "    selector = np.random.randint(0, 3, len(values))\n",
    "    for selected, value in zip(selector, values):\n",
    "        list_of_vars.append(types[selected](value))"
   ]
  },
  {
   "cell_type": "markdown",
   "id": "392eedca",
   "metadata": {
    "slideshow": {
     "slide_type": "subslide"
    }
   },
   "source": [
    "<div align=\"center\">\n",
    "  <img width=\"600px\" src=\"https://images.theconversation.com/files/298413/original/file-20191023-119419-x4f7cv.JPG\" />\n",
    "</div>"
   ]
  },
  {
   "cell_type": "code",
   "execution_count": null,
   "id": "39fa6b8b",
   "metadata": {
    "slideshow": {
     "slide_type": "slide"
    }
   },
   "outputs": [],
   "source": [
    "list_of_vars = []\n",
    "\n",
    "for i in range(3):\n",
    "    mess_with_my_list(list_of_vars)\n",
    "    print(i, \"=>\", list_of_vars)"
   ]
  },
  {
   "cell_type": "markdown",
   "id": "2b10b939",
   "metadata": {
    "slideshow": {
     "slide_type": "slide"
    }
   },
   "source": [
    "## How slow _is_ slow?\n",
    "\n",
    "* Time for some magic! "
   ]
  },
  {
   "cell_type": "code",
   "execution_count": null,
   "id": "dd30c86a",
   "metadata": {
    "slideshow": {
     "slide_type": "-"
    }
   },
   "outputs": [],
   "source": [
    "%%timeit -r 1 -n 4\n",
    "\n",
    "a = np.random.uniform(0, 10)\n",
    "b = np.random.uniform(0, 10)\n",
    "c = np.random.uniform(0, 10)\n",
    "\n",
    "positive_soln = -b + np.lib.scimath.sqrt(b**2 - 4*a*c)/ 2*a\n",
    "negative_soln = -b - np.lib.scimath.sqrt(b**2 - 4*a*c)/ 2*a\n",
    "\n",
    "print(f\"x = {[positive_soln, negative_soln]}\")"
   ]
  },
  {
   "cell_type": "markdown",
   "id": "f51791c9",
   "metadata": {
    "slideshow": {
     "slide_type": "slide"
    }
   },
   "source": [
    "## How slow _is_ slow?\n",
    "\n",
    "* A \"quick\" example - adding up some numbers."
   ]
  },
  {
   "cell_type": "code",
   "execution_count": null,
   "id": "9f359308",
   "metadata": {
    "slideshow": {
     "slide_type": "subslide"
    }
   },
   "outputs": [],
   "source": [
    "numbers = np.random.uniform(0, 1, (500, 500, 500))\n",
    "print(numbers.shape)\n",
    "print(numbers.size)"
   ]
  },
  {
   "cell_type": "code",
   "execution_count": null,
   "id": "d54e4370",
   "metadata": {
    "slideshow": {
     "slide_type": "subslide"
    }
   },
   "outputs": [],
   "source": [
    "%%timeit -r 3 -n 1\n",
    "total = 0\n",
    "for i in range(500):\n",
    "    for j in range(500):\n",
    "        for k in range(500):\n",
    "            total += numbers[i, j, k]\n",
    "print(total)"
   ]
  },
  {
   "cell_type": "markdown",
   "id": "fa526c74",
   "metadata": {
    "slideshow": {
     "slide_type": "subslide"
    }
   },
   "source": [
    "<div align=\"center\">\n",
    "  <img width=\"400px\" src=\"https://upload.wikimedia.org/wikipedia/en/5/52/Testcard_F.jpg\" />\n",
    "</div>\n"
   ]
  },
  {
   "cell_type": "markdown",
   "id": "ae4c9c9b",
   "metadata": {
    "slideshow": {
     "slide_type": "slide"
    }
   },
   "source": [
    "## How can we do better?\n",
    "\n",
    "* Compile your Python?"
   ]
  },
  {
   "cell_type": "code",
   "execution_count": null,
   "id": "9583c071",
   "metadata": {},
   "outputs": [],
   "source": [
    "import numba"
   ]
  },
  {
   "cell_type": "code",
   "execution_count": null,
   "id": "c3046936",
   "metadata": {},
   "outputs": [],
   "source": [
    "@numba.jit(nopython=True)\n",
    "def add_em_up(numbers):\n",
    "    total = 0\n",
    "    for i in range(500):\n",
    "        for j in range(500):\n",
    "            for k in range(500):\n",
    "                total += numbers[i,j,k]\n",
    "    return total"
   ]
  },
  {
   "cell_type": "code",
   "execution_count": null,
   "id": "a177eb5a",
   "metadata": {
    "slideshow": {
     "slide_type": "subslide"
    }
   },
   "outputs": [],
   "source": [
    "%%timeit -r 10 -n 1\n",
    "total = add_em_up(numbers)\n",
    "print(total)                "
   ]
  },
  {
   "cell_type": "markdown",
   "id": "7cf240c8",
   "metadata": {
    "slideshow": {
     "slide_type": "subslide"
    }
   },
   "source": [
    "<div align=\"center\">\n",
    "  <img width=\"400px\" src=\"https://c.tenor.com/41I-iMyClCgAAAAd/programmer-programming.gif\" />\n",
    "</div>"
   ]
  },
  {
   "cell_type": "markdown",
   "id": "a62ee313",
   "metadata": {
    "slideshow": {
     "slide_type": "slide"
    }
   },
   "source": [
    "## How can we do better?\n",
    "\n",
    "* Use Python builtin functions e.g. `sum`."
   ]
  },
  {
   "cell_type": "code",
   "execution_count": null,
   "id": "fbc8ab3c",
   "metadata": {},
   "outputs": [],
   "source": [
    "%%timeit -r 10 -n 1\n",
    "\n",
    "# Need to call sum three times - once for each dimension\n",
    "total = sum(sum(sum(numbers)))\n",
    "            \n",
    "print(total)"
   ]
  },
  {
   "cell_type": "markdown",
   "id": "d96252af",
   "metadata": {
    "slideshow": {
     "slide_type": "slide"
    }
   },
   "source": [
    "## How can we do better?\n",
    "\n",
    "* Use `numpy` functions (or `scipy`, `pandas` etc)."
   ]
  },
  {
   "cell_type": "code",
   "execution_count": null,
   "id": "38407281",
   "metadata": {},
   "outputs": [],
   "source": [
    "%%timeit -r 10 -n 1\n",
    "\n",
    "total = numbers.sum()\n",
    "            \n",
    "print(total)"
   ]
  },
  {
   "cell_type": "markdown",
   "id": "b07e815e",
   "metadata": {
    "slideshow": {
     "slide_type": "subslide"
    }
   },
   "source": [
    "<div align=\"center\">\n",
    "  <img width=\"400px\" src=\"https://media4.giphy.com/media/4xpB3eE00FfBm/giphy.gif\" />\n",
    "</div>"
   ]
  },
  {
   "cell_type": "markdown",
   "id": "bfa13d18",
   "metadata": {
    "slideshow": {
     "slide_type": "slide"
    }
   },
   "source": [
    "# Effective `numpy`\n",
    "\n",
    "<div align=\"center\">\n",
    "  <img width=\"400px\" src=\"https://media4.giphy.com/media/unQ3IJU2RG7DO/giphy.gif\" />\n",
    "</div>"
   ]
  },
  {
   "cell_type": "markdown",
   "id": "6a5f2d7e",
   "metadata": {
    "slideshow": {
     "slide_type": "skip"
    }
   },
   "source": [
    "## Brief aside...\n",
    "\n",
    "* If you want to **build** a `list` or `dict` of values comprehension expressions can **sometimes** be faster than for loops"
   ]
  },
  {
   "cell_type": "code",
   "execution_count": null,
   "id": "2dff52b8",
   "metadata": {
    "slideshow": {
     "slide_type": "skip"
    }
   },
   "outputs": [],
   "source": [
    "flat_numbers = numbers.flatten()"
   ]
  },
  {
   "cell_type": "markdown",
   "id": "d7129d0c",
   "metadata": {
    "slideshow": {
     "slide_type": "skip"
    }
   },
   "source": [
    "### List comprehension\n",
    "Using a **list comprehension** expression, we can write a for loop that builds a `list`..."
   ]
  },
  {
   "cell_type": "code",
   "execution_count": null,
   "id": "4f5a86c3",
   "metadata": {
    "slideshow": {
     "slide_type": "skip"
    }
   },
   "outputs": [],
   "source": [
    "%%timeit -r 1 -n 1\n",
    "squares = []\n",
    "for i in range(len(flat_numbers)):\n",
    "    squares.append(flat_numbers[i] * flat_numbers[i])\n",
    "    \n",
    "print(*squares[:10], sep=\"\\n\")"
   ]
  },
  {
   "cell_type": "markdown",
   "id": "ee997266",
   "metadata": {
    "slideshow": {
     "slide_type": "skip"
    }
   },
   "source": [
    "... like this"
   ]
  },
  {
   "cell_type": "code",
   "execution_count": null,
   "id": "f6765495",
   "metadata": {
    "slideshow": {
     "slide_type": "skip"
    }
   },
   "outputs": [],
   "source": [
    "%%timeit -r 1 -n 1\n",
    "squares = [flat_numbers[i] * flat_numbers[i] for i in range(len(flat_numbers))]"
   ]
  },
  {
   "cell_type": "markdown",
   "id": "902f7427",
   "metadata": {
    "slideshow": {
     "slide_type": "skip"
    }
   },
   "source": [
    "### Dict comprehension\n",
    "Using a **dict comprehension** expression, we can write a for loop that builds a `dict`..."
   ]
  },
  {
   "cell_type": "code",
   "execution_count": null,
   "id": "43a4424b",
   "metadata": {
    "slideshow": {
     "slide_type": "skip"
    }
   },
   "outputs": [],
   "source": [
    "%%timeit -r 1 -n 1\n",
    "squares = dict()\n",
    "for i in range(len(flat_numbers)//3):\n",
    "    squares[i] = flat_numbers[i] * flat_numbers[i]\n",
    "    \n",
    "print(*[squares[i] for i in range(10)], sep=\"\\n\")"
   ]
  },
  {
   "cell_type": "markdown",
   "id": "0a59a5da",
   "metadata": {
    "slideshow": {
     "slide_type": "skip"
    }
   },
   "source": [
    "... like this"
   ]
  },
  {
   "cell_type": "code",
   "execution_count": null,
   "id": "a8e8b1af",
   "metadata": {
    "slideshow": {
     "slide_type": "skip"
    }
   },
   "outputs": [],
   "source": [
    "%%timeit -r 1 -n 1\n",
    "squares = {i : flat_numbers[i] * flat_numbers[i] for i in range(len(flat_numbers)//3)}"
   ]
  },
  {
   "cell_type": "markdown",
   "id": "66f016ea",
   "metadata": {
    "slideshow": {
     "slide_type": "slide"
    }
   },
   "source": [
    "## Vectorised operations"
   ]
  },
  {
   "cell_type": "code",
   "execution_count": null,
   "id": "c9aa96a2",
   "metadata": {},
   "outputs": [],
   "source": [
    "a = np.random.uniform(size=flat_numbers.size)\n",
    "b = np.random.uniform(size=flat_numbers.size)\n",
    "c = np.random.uniform(size=flat_numbers.size)"
   ]
  },
  {
   "cell_type": "markdown",
   "id": "aec0560e",
   "metadata": {
    "slideshow": {
     "slide_type": "slide"
    }
   },
   "source": [
    "### The old-fashioned way\n",
    "Processing **100th** of the total data (I only have 40 mins!)"
   ]
  },
  {
   "cell_type": "code",
   "execution_count": null,
   "id": "5a1b06ca",
   "metadata": {
    "slideshow": {
     "slide_type": "-"
    }
   },
   "outputs": [],
   "source": [
    "%%timeit -r 1 -n 1\n",
    "y = []\n",
    "for i in range(a.size//100):\n",
    "    y.append(-b[i] + np.lib.scimath.sqrt(b[i]**2 - 4*a[i]*c[i])/ 2*a[i])\n",
    "    \n",
    "print(y[:20])"
   ]
  },
  {
   "cell_type": "markdown",
   "id": "ef42fbd3",
   "metadata": {
    "slideshow": {
     "slide_type": "subslide"
    }
   },
   "source": [
    "<div align=\"center\">\n",
    "  <img width=\"400px\" src=\"https://c.tenor.com/Z4t8sZCrOuMAAAAM/riker.gif\" />\n",
    "</div>"
   ]
  },
  {
   "cell_type": "markdown",
   "id": "db352f81",
   "metadata": {
    "slideshow": {
     "slide_type": "subslide"
    }
   },
   "source": [
    "### Now with `numpy` vectorised ops.\n",
    "We'll do the lot this time!"
   ]
  },
  {
   "cell_type": "code",
   "execution_count": null,
   "id": "9eac0128",
   "metadata": {
    "slideshow": {
     "slide_type": "-"
    }
   },
   "outputs": [],
   "source": [
    "%%timeit -r 1 -n 1\n",
    "\n",
    "y = -b + np.lib.scimath.sqrt(b**2 - 4*a*c)/ 2*a\n",
    "\n",
    "print(list(y[:20]))"
   ]
  },
  {
   "cell_type": "markdown",
   "id": "07348cd8",
   "metadata": {
    "slideshow": {
     "slide_type": "subslide"
    }
   },
   "source": [
    "<div align=\"center\">\n",
    "  <img width=\"400px\" src=\"https://c.tenor.com/DBqjevyA2o4AAAAd/bongo-cat-codes.gif\" />\n",
    "</div>"
   ]
  },
  {
   "cell_type": "markdown",
   "id": "cee05d64",
   "metadata": {
    "slideshow": {
     "slide_type": "slide"
    }
   },
   "source": [
    "## The dreaded stack trace"
   ]
  },
  {
   "cell_type": "code",
   "execution_count": null,
   "id": "185b6af5",
   "metadata": {
    "slideshow": {
     "slide_type": "subslide"
    }
   },
   "outputs": [],
   "source": [
    "a = np.random.uniform(size=(4,2,3))\n",
    "b = np.random.uniform(size=(4,3))\n",
    "print(a, b, sep=\"\\n\\n\")"
   ]
  },
  {
   "cell_type": "code",
   "execution_count": null,
   "id": "f69dbb14",
   "metadata": {
    "slideshow": {
     "slide_type": "subslide"
    }
   },
   "outputs": [],
   "source": [
    "c = a * b"
   ]
  },
  {
   "cell_type": "code",
   "execution_count": null,
   "id": "6a3a6979",
   "metadata": {
    "slideshow": {
     "slide_type": "subslide"
    }
   },
   "outputs": [],
   "source": [
    "result = []\n",
    "\n",
    "for i in range(2):\n",
    "    result.append(a[:,i,:]*b)\n",
    "\n",
    "print(np.array(result))"
   ]
  },
  {
   "cell_type": "markdown",
   "id": "c7c5b444",
   "metadata": {
    "slideshow": {
     "slide_type": "subslide"
    }
   },
   "source": [
    "<div align=\"center\">\n",
    "  <img width=\"400px\" src=\"https://c.tenor.com/LRtRSo1uhQsAAAAC/star-trek-picard.gif\" />\n",
    "</div>"
   ]
  },
  {
   "cell_type": "markdown",
   "id": "01d82389",
   "metadata": {
    "slideshow": {
     "slide_type": "slide"
    }
   },
   "source": [
    "## The `shape` of numpy arrays\n",
    "\n",
    "<div align=\"center\">\n",
    "  <img width=\"700px\" src=\"https://i.stack.imgur.com/NWTQH.png\" />\n",
    "</div>"
   ]
  },
  {
   "cell_type": "code",
   "execution_count": null,
   "id": "fbb958a8",
   "metadata": {
    "slideshow": {
     "slide_type": "slide"
    }
   },
   "outputs": [],
   "source": [
    "print(a.shape)\n",
    "print(a.sum(axis=0).shape)\n",
    "print(a.prod(axis=1).shape)\n",
    "print(a.cumsum(axis=2).shape)"
   ]
  },
  {
   "cell_type": "markdown",
   "id": "34eb6a93",
   "metadata": {},
   "source": [
    "`numpy` mathematical function reference [https://numpy.org/doc/stable/reference/routines.math.html](https://numpy.org/doc/stable/reference/routines.math.html)"
   ]
  },
  {
   "cell_type": "markdown",
   "id": "d3afa783",
   "metadata": {
    "slideshow": {
     "slide_type": "slide"
    }
   },
   "source": [
    "## The `shape` of numpy arrays\n",
    "\n",
    "An array with shape `(4,3,2)` is a _nested_ data structure - an array of 4 arrays of 3 arrays of 2 elements."
   ]
  },
  {
   "cell_type": "markdown",
   "id": "91aebeae",
   "metadata": {
    "slideshow": {
     "slide_type": "-"
    }
   },
   "source": [
    "<div align=\"center\">\n",
    "  <img width=\"400px\" src=\"https://c.tenor.com/bvfEFc8xI_0AAAAd/llama-stare.gif\" />\n",
    "</div>"
   ]
  },
  {
   "cell_type": "markdown",
   "id": "fb85a526",
   "metadata": {
    "slideshow": {
     "slide_type": "slide"
    }
   },
   "source": [
    "## The `shape` of numpy arrays\n",
    "\n",
    "An array of 4 arrays of 3 arrays of 2 elements."
   ]
  },
  {
   "cell_type": "code",
   "execution_count": null,
   "id": "519dc628",
   "metadata": {},
   "outputs": [],
   "source": [
    "np.random.random(size=(4,3,2))"
   ]
  },
  {
   "cell_type": "markdown",
   "id": "6556612a",
   "metadata": {
    "slideshow": {
     "slide_type": "slide"
    }
   },
   "source": [
    "## Broadcasting\n",
    "* How `numpy` performs arithmetic on arrays with different shapes.\n",
    "* The **innermost** nested dimensions must match."
   ]
  },
  {
   "cell_type": "code",
   "execution_count": null,
   "id": "7ea6168e",
   "metadata": {
    "slideshow": {
     "slide_type": "subslide"
    }
   },
   "outputs": [],
   "source": [
    "print(a.shape)"
   ]
  },
  {
   "cell_type": "code",
   "execution_count": null,
   "id": "db1fc962",
   "metadata": {},
   "outputs": [],
   "source": [
    "a* np.random.uniform(size=3)"
   ]
  },
  {
   "cell_type": "code",
   "execution_count": null,
   "id": "906c15ab",
   "metadata": {
    "slideshow": {
     "slide_type": "subslide"
    }
   },
   "outputs": [],
   "source": [
    "a * np.random.uniform(size=(2, 3))"
   ]
  },
  {
   "cell_type": "code",
   "execution_count": null,
   "id": "ec98ed6c",
   "metadata": {
    "slideshow": {
     "slide_type": "subslide"
    }
   },
   "outputs": [],
   "source": [
    "a * np.random.uniform(size=(4, 2, 3))"
   ]
  },
  {
   "cell_type": "markdown",
   "id": "df884cf1",
   "metadata": {
    "slideshow": {
     "slide_type": "slide"
    }
   },
   "source": [
    "## Coercing shapes with `rollaxis` and `swapaxes`\n",
    "&nbsp;\n",
    "<div align=\"center\">\n",
    "  <img width=\"400px\" src=\"https://c.tenor.com/3rGvpHXONYYAAAAC/tesseract.gif\" />\n",
    "</div>\n"
   ]
  },
  {
   "cell_type": "code",
   "execution_count": null,
   "id": "da82c795",
   "metadata": {},
   "outputs": [],
   "source": [
    "print(\"a\", a.shape, \"b\", b.shape, sep=\"\\n\")"
   ]
  },
  {
   "cell_type": "markdown",
   "id": "4f843b83",
   "metadata": {
    "slideshow": {
     "slide_type": "slide"
    }
   },
   "source": [
    "`rollaxis` moves the selected dimension to the \"outside\"."
   ]
  },
  {
   "cell_type": "code",
   "execution_count": null,
   "id": "b9fb2abb",
   "metadata": {},
   "outputs": [],
   "source": [
    "rolled = np.rollaxis(a, 1)\n",
    "print(rolled.shape, np.array(result).shape)\n",
    "rolled * b == np.array(result)"
   ]
  },
  {
   "cell_type": "markdown",
   "id": "6e8dd103",
   "metadata": {
    "slideshow": {
     "slide_type": "slide"
    }
   },
   "source": [
    "`swapaxes` swaps two axes - surprise, surprise!"
   ]
  },
  {
   "cell_type": "code",
   "execution_count": null,
   "id": "406ab54b",
   "metadata": {},
   "outputs": [],
   "source": [
    "swapped = np.swapaxes(a, 0, 1)\n",
    "print(swapped.shape, np.array(result).shape)\n",
    "swapped * b == np.array(result)"
   ]
  },
  {
   "cell_type": "markdown",
   "id": "4b9ee539",
   "metadata": {
    "slideshow": {
     "slide_type": "-"
    }
   },
   "source": [
    "Other examples like `transpose` (`T`), `moveaxis` at [https://numpy.org/doc/stable/reference/routines.array-manipulation.html#transpose-like-operations](https://numpy.org/doc/stable/reference/routines.array-manipulation.html#transpose-like-operations)"
   ]
  },
  {
   "cell_type": "markdown",
   "id": "b8382e93",
   "metadata": {
    "slideshow": {
     "slide_type": "slide"
    }
   },
   "source": [
    "## Applying functions\n",
    "\n",
    "&nbsp;\n",
    "<div align=\"center\">\n",
    "  <img width=\"400px\" src=\"https://c.tenor.com/AnWNRWE78A8AAAAM/apply-apply-apply-apply.gif\" />\n",
    "</div>\n",
    "\n",
    "Efficiently computing values using subsets of a multi-dimensional array."
   ]
  },
  {
   "cell_type": "code",
   "execution_count": null,
   "id": "935601ab",
   "metadata": {
    "slideshow": {
     "slide_type": "slide"
    }
   },
   "outputs": [],
   "source": [
    "from astropy.cosmology import Planck18_arXiv_v2"
   ]
  },
  {
   "cell_type": "code",
   "execution_count": null,
   "id": "c7f6ea80",
   "metadata": {},
   "outputs": [],
   "source": [
    "def angular_diameter_distance_range(redshifts):\n",
    "    min_dist = Planck18_arXiv_v2.angular_diameter_distance(redshifts.min())\n",
    "    max_dist = Planck18_arXiv_v2.angular_diameter_distance(redshifts.max())\n",
    "    return max_dist - min_dist"
   ]
  },
  {
   "cell_type": "code",
   "execution_count": null,
   "id": "2cf16e82",
   "metadata": {
    "slideshow": {
     "slide_type": "subslide"
    }
   },
   "outputs": [],
   "source": [
    "a"
   ]
  },
  {
   "cell_type": "code",
   "execution_count": null,
   "id": "80aade05",
   "metadata": {},
   "outputs": [],
   "source": [
    "np.apply_along_axis(angular_diameter_distance_range, 2, a)"
   ]
  },
  {
   "cell_type": "markdown",
   "id": "82986316",
   "metadata": {},
   "source": [
    "Be **careful** with applying your own function. It's not always as fast as you think (example coming later). Always prefer native `numpy` functions or vectorised arithmetic."
   ]
  },
  {
   "cell_type": "markdown",
   "id": "89da223e",
   "metadata": {
    "slideshow": {
     "slide_type": "slide"
    }
   },
   "source": [
    "## Pandas (Sorry this bit won't work without some data)\n",
    "\n",
    "&nbsp;\n",
    "<div align=\"center\">\n",
    "  <img width=\"400px\" src=\"https://i.pinimg.com/originals/f3/34/ea/f334ea7f813f6178a40368e2706f13dd.gif\" />\n",
    "</div>\n",
    "\n"
   ]
  },
  {
   "cell_type": "code",
   "execution_count": null,
   "id": "833f8963",
   "metadata": {
    "slideshow": {
     "slide_type": "slide"
    }
   },
   "outputs": [],
   "source": [
    "import pandas as pd"
   ]
  },
  {
   "cell_type": "code",
   "execution_count": null,
   "id": "f1a02e3a",
   "metadata": {},
   "outputs": [],
   "source": [
    "big_data = pd.read_pickle(\n",
    "    \"REDACTED\"\n",
    ")"
   ]
  },
  {
   "cell_type": "code",
   "execution_count": null,
   "id": "fe332104",
   "metadata": {},
   "outputs": [],
   "source": [
    "big_data"
   ]
  },
  {
   "cell_type": "markdown",
   "id": "4d6d2b44",
   "metadata": {
    "slideshow": {
     "slide_type": "slide"
    }
   },
   "source": [
    "### That example I promised"
   ]
  },
  {
   "cell_type": "code",
   "execution_count": null,
   "id": "0aafde0a",
   "metadata": {},
   "outputs": [],
   "source": [
    "import astropy.units as apunits\n",
    "import astropy.constants as apconst"
   ]
  },
  {
   "cell_type": "code",
   "execution_count": null,
   "id": "4ce4a644",
   "metadata": {},
   "outputs": [],
   "source": [
    "def computePeriod(data, keepunit=False, unit=None):\n",
    "    T = np.sqrt(\n",
    "        4\n",
    "        * (data.a.to_numpy() * apconst.R_sun) ** 3\n",
    "        * np.pi ** 2\n",
    "        / (apconst.G * (data.Macc.to_numpy() + data.Mcomp.to_numpy()) * apconst.M_sun)\n",
    "    )\n",
    "    if unit is not None:\n",
    "        T = T.to(unit)\n",
    "    return T if keepunit else T.value\n",
    "\n",
    "def computePeriod2(data, keepunit=False, unit=None):\n",
    "    T = np.sqrt(\n",
    "        4\n",
    "        * (data.a * apconst.R_sun) ** 3\n",
    "        * np.pi ** 2\n",
    "        / (apconst.G * (data.Macc + data.Mcomp * apconst.M_sun))\n",
    "    )\n",
    "    if unit is not None:\n",
    "        T = T.to(unit)\n",
    "    return T if keepunit else T.value"
   ]
  },
  {
   "cell_type": "code",
   "execution_count": null,
   "id": "668fb325",
   "metadata": {},
   "outputs": [],
   "source": [
    "%%timeit -r 1 -n 1\n",
    "periods = computePeriod(big_data, True, apunits.year)"
   ]
  },
  {
   "cell_type": "code",
   "execution_count": null,
   "id": "4fbb9ae5",
   "metadata": {},
   "outputs": [],
   "source": [
    "big_data.apply(computePeriod2, args=(True, apunits.year), axis=1)"
   ]
  }
 ],
 "metadata": {
  "celltoolbar": "Slideshow",
  "kernelspec": {
   "display_name": "Python 3 (ipykernel)",
   "language": "python",
   "name": "python3"
  },
  "language_info": {
   "codemirror_mode": {
    "name": "ipython",
    "version": 3
   },
   "file_extension": ".py",
   "mimetype": "text/x-python",
   "name": "python",
   "nbconvert_exporter": "python",
   "pygments_lexer": "ipython3",
   "version": "3.9.7"
  }
 },
 "nbformat": 4,
 "nbformat_minor": 5
}
